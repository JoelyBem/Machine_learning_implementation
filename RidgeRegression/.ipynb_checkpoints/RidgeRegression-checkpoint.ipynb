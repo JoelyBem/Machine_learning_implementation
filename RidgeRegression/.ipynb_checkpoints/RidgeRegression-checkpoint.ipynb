{
 "cells": [
  {
   "cell_type": "code",
   "execution_count": 1,
   "metadata": {},
   "outputs": [],
   "source": [
    "import numpy as np\n",
    "import scipy\n",
    "from sklearn import datasets\n",
    "from sklearn.linear_model import Ridge"
   ]
  },
  {
   "cell_type": "code",
   "execution_count": 2,
   "metadata": {},
   "outputs": [],
   "source": [
    "def fit_ridge_regression_inverse(X, y, lambda_, fit_intercept=True):\n",
    "    if fit_intercept == True:\n",
    "        one = np.array([np.ones(X.shape[0])])\n",
    "        X = np.concatenate((X, one.T), axis=1)\n",
    "        \n",
    "    I = np.eye(X.shape[1]) \n",
    "    weights = np.linalg.inv(X.T@X + lambda_*I)@X.T@y\n",
    "    return weights"
   ]
  },
  {
   "cell_type": "code",
   "execution_count": 3,
   "metadata": {},
   "outputs": [],
   "source": [
    "data = datasets.load_diabetes()\n",
    "X_train, y_train = data.data, data.target"
   ]
  },
  {
   "cell_type": "code",
   "execution_count": 4,
   "metadata": {},
   "outputs": [],
   "source": [
    "w = fit_ridge_regression_inverse(X_train, y_train, 1.0, fit_intercept=False)"
   ]
  },
  {
   "cell_type": "code",
   "execution_count": 5,
   "metadata": {},
   "outputs": [
    {
     "data": {
      "text/plain": [
       "array([  29.46574564,  -83.15488546,  306.35162706,  201.62943384,\n",
       "          5.90936896,  -29.51592665, -152.04046539,  117.31171538,\n",
       "        262.94499533,  111.878718  ])"
      ]
     },
     "execution_count": 5,
     "metadata": {},
     "output_type": "execute_result"
    }
   ],
   "source": [
    "w"
   ]
  },
  {
   "cell_type": "code",
   "execution_count": 24,
   "metadata": {},
   "outputs": [
    {
     "data": {
      "text/plain": [
       "array([  29.46574564,  -83.15488546,  306.35162706,  201.62943384,\n",
       "          5.90936896,  -29.51592665, -152.04046539,  117.31171538,\n",
       "        262.94499533,  111.878718  ])"
      ]
     },
     "execution_count": 24,
     "metadata": {},
     "output_type": "execute_result"
    }
   ],
   "source": [
    "#Comparing with result given by sklearn.linear_model.Ridge\n",
    "clf = Ridge(alpha=1.0, fit_intercept=False)\n",
    "clf.fit(X_train, y_train)\n",
    "clf.coef_"
   ]
  },
  {
   "cell_type": "code",
   "execution_count": 7,
   "metadata": {
    "nbgrader": {
     "cell_type": "code",
     "checksum": "0a8508caf7357c557a41778fb85eeed7",
     "grade": false,
     "grade_id": "cell-f47228b1d23c9c3d",
     "locked": false,
     "schema_version": 3,
     "solution": true,
     "task": false
    }
   },
   "outputs": [],
   "source": [
    "def fit_ridge_regression_cholesky(X, y, lambda_, fit_intercept=True):\n",
    "    \"\"\" Cholesky approach \"\"\"\n",
    "    if fit_intercept == True:\n",
    "        one = np.array([np.ones(X.shape[0])])\n",
    "        X = np.concatenate((X, one.T), axis=1)\n",
    "        \n",
    "    I = np.eye(X.shape[1]) \n",
    "    b = np.dot(X.T, y)\n",
    "    A = X.T@X + lambda_*I\n",
    "    L = np.linalg.cholesky(A)\n",
    "    x1 = scipy.linalg.solve_triangular(L, b, lower=True)\n",
    "    weights = scipy.linalg.solve_triangular(L.T, x1)\n",
    "    return weights"
   ]
  },
  {
   "cell_type": "code",
   "execution_count": 8,
   "metadata": {},
   "outputs": [],
   "source": [
    "w = fit_ridge_regression_cholesky(X_train, y_train, 0.1)"
   ]
  },
  {
   "cell_type": "code",
   "execution_count": 9,
   "metadata": {},
   "outputs": [
    {
     "data": {
      "text/plain": [
       "array([   1.30734895, -207.19481363,  489.69108009,  301.76943732,\n",
       "        -83.46607377,  -70.82809551, -188.68016351,  115.7127025 ,\n",
       "        443.81405412,   86.74853944,  152.09907261])"
      ]
     },
     "execution_count": 9,
     "metadata": {},
     "output_type": "execute_result"
    }
   ],
   "source": [
    "w"
   ]
  },
  {
   "cell_type": "code",
   "execution_count": 10,
   "metadata": {
    "nbgrader": {
     "cell_type": "code",
     "checksum": "41468b8caec731fca738225716663970",
     "grade": false,
     "grade_id": "cell-2877dca319d8a6a7",
     "locked": false,
     "schema_version": 3,
     "solution": true,
     "task": false
    }
   },
   "outputs": [],
   "source": [
    "def fit_ridge_regression_qr(X, y, lambda_, fit_intercept=True):\n",
    "    \"\"\" QR approach\"\"\"\n",
    "    if fit_intercept == True:\n",
    "        one = np.array([np.ones(X.shape[0])])\n",
    "        X = np.concatenate((X, one.T), axis=1)\n",
    "        \n",
    "    I = np.eye(X.shape[1]) \n",
    "    b = np.dot(X.T, y)\n",
    "    A = X.T@X + lambda_*I\n",
    "    Q, R = np.linalg.qr(A)\n",
    "    Q_inv = Q.T\n",
    "    x1 = np.dot(Q_inv, b)\n",
    "    weight = scipy.linalg.solve_triangular(R, x1)\n",
    "    return weight"
   ]
  },
  {
   "cell_type": "code",
   "execution_count": 11,
   "metadata": {},
   "outputs": [],
   "source": [
    "w = fit_ridge_regression_qr(X_train, y_train, 0.1)"
   ]
  },
  {
   "cell_type": "code",
   "execution_count": 12,
   "metadata": {},
   "outputs": [
    {
     "data": {
      "text/plain": [
       "array([   1.30734895, -207.19481363,  489.69108009,  301.76943732,\n",
       "        -83.46607377,  -70.82809551, -188.68016351,  115.7127025 ,\n",
       "        443.81405412,   86.74853944,  152.09907261])"
      ]
     },
     "execution_count": 12,
     "metadata": {},
     "output_type": "execute_result"
    }
   ],
   "source": [
    "w"
   ]
  },
  {
   "cell_type": "code",
   "execution_count": 13,
   "metadata": {
    "nbgrader": {
     "cell_type": "code",
     "checksum": "92c365f396dd028620c0287625882ad7",
     "grade": false,
     "grade_id": "cell-5073cab85ff159fb",
     "locked": false,
     "schema_version": 3,
     "solution": true,
     "task": false
    }
   },
   "outputs": [],
   "source": [
    "def fit_ridge_regression_svd(X, y, lambda_, fit_intercept=True):\n",
    "    \"\"\" SVD approach\"\"\"\n",
    "    if fit_intercept == True:\n",
    "        one = np.array([np.ones(X.shape[0])])\n",
    "        X = np.concatenate((X, one.T), axis=1)\n",
    "        \n",
    "    I = np.eye(X.shape[1]) \n",
    "    b = np.dot(X.T, y)\n",
    "    A = X.T@X + lambda_*I\n",
    "    U, Sigma_diag, V_t = np.linalg.svd(A, full_matrices=False)\n",
    "    Sigma_diag_inv = 1/Sigma_diag\n",
    "    Sigma_mat_inv = np.diag(Sigma_diag_inv)\n",
    "    #Sigma_mat_inv[:Sigma_diag_inv.shape[0], :Sigma_diag_inv.shape[0]] = np.diag(Sigma_diag_inv)\n",
    "    U_inv = U.T\n",
    "    x1 = np.dot(U_inv, b)\n",
    "    x2 = np.dot(Sigma_mat_inv, x1)\n",
    "    #Inverse de V_t = V vu que V_t est une matrice orthogonale\n",
    "    V = V_t.T\n",
    "    weights = np.dot(V, x2)\n",
    "    return weights"
   ]
  },
  {
   "cell_type": "code",
   "execution_count": 14,
   "metadata": {},
   "outputs": [],
   "source": [
    "w = fit_ridge_regression_svd(X_train, y_train, 0.1)"
   ]
  },
  {
   "cell_type": "code",
   "execution_count": 15,
   "metadata": {},
   "outputs": [
    {
     "data": {
      "text/plain": [
       "array([   1.30734895, -207.19481363,  489.69108008,  301.76943732,\n",
       "        -83.46607377,  -70.82809551, -188.68016351,  115.7127025 ,\n",
       "        443.81405412,   86.74853944,  152.09907261])"
      ]
     },
     "execution_count": 15,
     "metadata": {},
     "output_type": "execute_result"
    }
   ],
   "source": [
    "w"
   ]
  },
  {
   "cell_type": "code",
   "execution_count": null,
   "metadata": {},
   "outputs": [],
   "source": []
  }
 ],
 "metadata": {
  "kernelspec": {
   "display_name": "Python 3",
   "language": "python",
   "name": "python3"
  },
  "language_info": {
   "codemirror_mode": {
    "name": "ipython",
    "version": 3
   },
   "file_extension": ".py",
   "mimetype": "text/x-python",
   "name": "python",
   "nbconvert_exporter": "python",
   "pygments_lexer": "ipython3",
   "version": "3.8.5"
  }
 },
 "nbformat": 4,
 "nbformat_minor": 4
}
