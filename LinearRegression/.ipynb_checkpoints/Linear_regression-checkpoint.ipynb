{
 "cells": [
  {
   "cell_type": "markdown",
   "metadata": {},
   "source": [
    "# Least squares"
   ]
  },
  {
   "cell_type": "code",
   "execution_count": 1,
   "metadata": {
    "deletable": false,
    "editable": false,
    "nbgrader": {
     "cell_type": "code",
     "checksum": "c761885983bb67597d5b71c35a0ec7dd",
     "grade": false,
     "grade_id": "cell-678763ad276cc09f",
     "locked": true,
     "schema_version": 3,
     "solution": false,
     "task": false
    }
   },
   "outputs": [],
   "source": [
    "import numpy as np\n",
    "import scipy\n",
    "from sklearn.metrics import mean_squared_error\n",
    "from sklearn import datasets\n",
    "from sklearn.linear_model import LinearRegression as LR\n",
    "\n",
    "def rel_error(x, y):\n",
    "  \"\"\" returns relative error \"\"\"\n",
    "  return np.max(np.abs(x - y) / (np.maximum(1e-8, np.abs(x) + np.abs(y))))\n",
    "\n",
    "data = datasets.load_diabetes()\n",
    "X_train, y_train = data.data, data.target"
   ]
  },
  {
   "cell_type": "code",
   "execution_count": 2,
   "metadata": {
    "deletable": false,
    "nbgrader": {
     "cell_type": "code",
     "checksum": "18180df278e73e6f76e771368ec05383",
     "grade": false,
     "grade_id": "cell-b05eee3d44b96fa8",
     "locked": false,
     "schema_version": 3,
     "solution": true,
     "task": false
    }
   },
   "outputs": [],
   "source": [
    "def fit_inverse(X, y):\n",
    "    \"\"\"Direct method using the inverse\"\"\"\n",
    "    #Without bias\n",
    "    #Calculate weights\n",
    "    X_transpose = np.transpose(X)\n",
    "    dot = np.dot(X_transpose, X)\n",
    "    inv = np.linalg.inv(dot)\n",
    "    dot_2 = np.dot(inv, X_transpose)\n",
    "    weights = np.dot(dot_2, y)\n",
    "    return weights"
   ]
  },
  {
   "cell_type": "code",
   "execution_count": 3,
   "metadata": {
    "deletable": false,
    "editable": false,
    "nbgrader": {
     "cell_type": "code",
     "checksum": "b45c5a315079b0d1d6e8315caca1e8bc",
     "grade": true,
     "grade_id": "cell-8b04c4a277023f70",
     "locked": true,
     "points": 1,
     "schema_version": 3,
     "solution": false,
     "task": false
    }
   },
   "outputs": [
    {
     "name": "stdout",
     "output_type": "stream",
     "text": [
      "prediction error:  3.776169742623381e-14\n"
     ]
    }
   ],
   "source": [
    "w = fit_inverse(X_train, y_train)\n",
    "\n",
    "sk_model = LR(fit_intercept=False)\n",
    "sk_model.fit(X_train, y_train)\n",
    "\n",
    "error = rel_error(sk_model.coef_, w)\n",
    "assert error <= 1e-13\n",
    "print(\"prediction error: \", error)"
   ]
  },
  {
   "cell_type": "code",
   "execution_count": 4,
   "metadata": {
    "deletable": false,
    "nbgrader": {
     "cell_type": "code",
     "checksum": "0a8508caf7357c557a41778fb85eeed7",
     "grade": false,
     "grade_id": "cell-f47228b1d23c9c3d",
     "locked": false,
     "schema_version": 3,
     "solution": true,
     "task": false
    }
   },
   "outputs": [],
   "source": [
    "def fit_cholesky(X, y):\n",
    "    \"\"\" Cholesky approach \"\"\"\n",
    "    b = np.dot(X.T, y)\n",
    "    A = np.dot(X.T, X)\n",
    "    L = np.linalg.cholesky(A)\n",
    "    x1 = scipy.linalg.solve_triangular(L, b, lower=True)\n",
    "    weights = scipy.linalg.solve_triangular(L.T, x1)\n",
    "    return weights"
   ]
  },
  {
   "cell_type": "code",
   "execution_count": 6,
   "metadata": {
    "deletable": false,
    "editable": false,
    "nbgrader": {
     "cell_type": "code",
     "checksum": "39571fbbebc2d0b2e4e8c9a0a9db3c34",
     "grade": true,
     "grade_id": "cell-9466dcbcbd7f8417",
     "locked": true,
     "points": 1,
     "schema_version": 3,
     "solution": false,
     "task": false
    }
   },
   "outputs": [
    {
     "name": "stdout",
     "output_type": "stream",
     "text": [
      "prediction error:  6.722566618152413e-14\n"
     ]
    }
   ],
   "source": [
    "w = fit_cholesky(X_train, y_train)\n",
    "\n",
    "sk_model = LR(fit_intercept=False)\n",
    "sk_model.fit(X_train, y_train)\n",
    "\n",
    "error = rel_error(sk_model.coef_, w)\n",
    "assert error <= 1e-13\n",
    "print(\"prediction error: \", error)"
   ]
  },
  {
   "cell_type": "code",
   "execution_count": 7,
   "metadata": {
    "deletable": false,
    "nbgrader": {
     "cell_type": "code",
     "checksum": "41468b8caec731fca738225716663970",
     "grade": false,
     "grade_id": "cell-2877dca319d8a6a7",
     "locked": false,
     "schema_version": 3,
     "solution": true,
     "task": false
    }
   },
   "outputs": [],
   "source": [
    "def fit_qr(X, y):\n",
    "    \"\"\" QR approach\"\"\"\n",
    "    b = np.dot(X.T, y)\n",
    "    A = np.dot(X.T, X)\n",
    "    Q, R = np.linalg.qr(A)\n",
    "    Q_inv = Q.T\n",
    "    x1 = np.dot(Q_inv, b)\n",
    "    weight = scipy.linalg.solve_triangular(R, x1)\n",
    "    return weight"
   ]
  },
  {
   "cell_type": "code",
   "execution_count": 8,
   "metadata": {
    "deletable": false,
    "editable": false,
    "nbgrader": {
     "cell_type": "code",
     "checksum": "f611b7bf0cf2dec0116f24e2107febc5",
     "grade": true,
     "grade_id": "cell-31e8d5d1584d650a",
     "locked": true,
     "points": 1,
     "schema_version": 3,
     "solution": false,
     "task": false
    }
   },
   "outputs": [
    {
     "name": "stdout",
     "output_type": "stream",
     "text": [
      "prediction error:  5.996771364907851e-14\n"
     ]
    }
   ],
   "source": [
    "w = fit_qr(X_train, y_train)\n",
    "\n",
    "sk_model = LR(fit_intercept=False)\n",
    "sk_model.fit(X_train, y_train)\n",
    "\n",
    "error = rel_error(sk_model.coef_, w)\n",
    "assert error <= 1e-13\n",
    "print(\"prediction error: \", error)"
   ]
  },
  {
   "cell_type": "code",
   "execution_count": 9,
   "metadata": {
    "deletable": false,
    "nbgrader": {
     "cell_type": "code",
     "checksum": "92c365f396dd028620c0287625882ad7",
     "grade": false,
     "grade_id": "cell-5073cab85ff159fb",
     "locked": false,
     "schema_version": 3,
     "solution": true,
     "task": false
    }
   },
   "outputs": [],
   "source": [
    "def fit_svd(X, y):\n",
    "    \"\"\" SVD approach\"\"\"\n",
    "    b = np.dot(X.T, y)\n",
    "    A = np.dot(X.T, X)\n",
    "    U, Sigma_diag, V_t = np.linalg.svd(A, full_matrices=False)\n",
    "    Sigma_diag_inv = 1/Sigma_diag\n",
    "    Sigma_mat_inv = np.diag(Sigma_diag_inv)\n",
    "    #Sigma_mat_inv[:Sigma_diag_inv.shape[0], :Sigma_diag_inv.shape[0]] = np.diag(Sigma_diag_inv)\n",
    "    U_inv = U.T\n",
    "    x1 = np.dot(U_inv, b)\n",
    "    x2 = np.dot(Sigma_mat_inv, x1)\n",
    "    #Inverse de V_t = V vu que V_t est une matrice orthogonale\n",
    "    V = V_t.T\n",
    "    weights = np.dot(V, x2)\n",
    "    return weights"
   ]
  },
  {
   "cell_type": "code",
   "execution_count": 10,
   "metadata": {},
   "outputs": [
    {
     "name": "stdout",
     "output_type": "stream",
     "text": [
      "prediction error:  1.3269333900055202e-13\n"
     ]
    }
   ],
   "source": [
    "w = fit_svd(X_train, y_train)\n",
    "\n",
    "sk_model = LR(fit_intercept=False)\n",
    "sk_model.fit(X_train, y_train)\n",
    "\n",
    "error = rel_error(sk_model.coef_, w)\n",
    "print(\"prediction error: \", error)"
   ]
  },
  {
   "cell_type": "code",
   "execution_count": null,
   "metadata": {},
   "outputs": [],
   "source": []
  },
  {
   "cell_type": "code",
   "execution_count": 11,
   "metadata": {
    "deletable": false,
    "editable": false,
    "nbgrader": {
     "cell_type": "code",
     "checksum": "2aae0f7dbc36ef688742fb7d4277e74a",
     "grade": true,
     "grade_id": "cell-e2714349e15197b8",
     "locked": true,
     "points": 1,
     "schema_version": 3,
     "solution": false,
     "task": false
    }
   },
   "outputs": [
    {
     "ename": "AssertionError",
     "evalue": "",
     "output_type": "error",
     "traceback": [
      "\u001b[1;31m---------------------------------------------------------------------------\u001b[0m",
      "\u001b[1;31mAssertionError\u001b[0m                            Traceback (most recent call last)",
      "\u001b[1;32m<ipython-input-11-e7627268c2d3>\u001b[0m in \u001b[0;36m<module>\u001b[1;34m\u001b[0m\n\u001b[0;32m      5\u001b[0m \u001b[1;33m\u001b[0m\u001b[0m\n\u001b[0;32m      6\u001b[0m \u001b[0merror\u001b[0m \u001b[1;33m=\u001b[0m \u001b[0mrel_error\u001b[0m\u001b[1;33m(\u001b[0m\u001b[0msk_model\u001b[0m\u001b[1;33m.\u001b[0m\u001b[0mcoef_\u001b[0m\u001b[1;33m,\u001b[0m \u001b[0mw\u001b[0m\u001b[1;33m)\u001b[0m\u001b[1;33m\u001b[0m\u001b[1;33m\u001b[0m\u001b[0m\n\u001b[1;32m----> 7\u001b[1;33m \u001b[1;32massert\u001b[0m \u001b[0merror\u001b[0m \u001b[1;33m<=\u001b[0m \u001b[1;36m1e-13\u001b[0m\u001b[1;33m\u001b[0m\u001b[1;33m\u001b[0m\u001b[0m\n\u001b[0m\u001b[0;32m      8\u001b[0m \u001b[0mprint\u001b[0m\u001b[1;33m(\u001b[0m\u001b[1;34m\"prediction error: \"\u001b[0m\u001b[1;33m,\u001b[0m \u001b[0merror\u001b[0m\u001b[1;33m)\u001b[0m\u001b[1;33m\u001b[0m\u001b[1;33m\u001b[0m\u001b[0m\n",
      "\u001b[1;31mAssertionError\u001b[0m: "
     ]
    }
   ],
   "source": [
    "w = fit_svd(X_train, y_train)\n",
    "\n",
    "sk_model = LR(fit_intercept=False)\n",
    "sk_model.fit(X_train, y_train)\n",
    "\n",
    "error = rel_error(sk_model.coef_, w)\n",
    "assert error <= 1e-13\n",
    "print(\"prediction error: \", error)"
   ]
  },
  {
   "cell_type": "markdown",
   "metadata": {},
   "source": [
    "## Combine everything in a class"
   ]
  },
  {
   "cell_type": "code",
   "execution_count": 97,
   "metadata": {
    "deletable": false,
    "nbgrader": {
     "cell_type": "code",
     "checksum": "93bcc6ce3d01eb1ae19e2674c2089dd0",
     "grade": false,
     "grade_id": "cell-6ec30d1a23311e34",
     "locked": false,
     "schema_version": 3,
     "solution": true,
     "task": false
    }
   },
   "outputs": [],
   "source": [
    "class LinearRegression():\n",
    "    def __init__(self, fit_intercept=True, method=\"inverse\"):\n",
    "        self.w = 0\n",
    "        self.fit_intercept = fit_intercept # bias\n",
    "        self.method = method\n",
    "        \n",
    "    \n",
    "    def fit(self, X, y):\n",
    "        if self.fit_intercept == True:\n",
    "            one = np.array([np.ones(X.shape[0])])\n",
    "            X = np.concatenate((X, one.T), axis=1)\n",
    "            print(X)\n",
    "            \n",
    "        if self.method == \"inverse\":\n",
    "            X_transpose = np.transpose(X)\n",
    "            dot = np.dot(X_transpose, X)\n",
    "            inv = np.linalg.inv(dot)\n",
    "            dot_2 = np.dot(inv, X_transpose)\n",
    "            self.w = np.dot(dot_2, y)\n",
    "            \n",
    "        elif self.method == \"cholesky\":\n",
    "            \"\"\" Cholesky approach \"\"\"\n",
    "            b = np.dot(X.T, y)\n",
    "            A = np.dot(X.T, X)\n",
    "            L = np.linalg.cholesky(A)\n",
    "            x1 = scipy.linalg.solve_triangular(L, b, lower=True)\n",
    "            self.w = scipy.linalg.solve_triangular(L.T, x1)\n",
    "        \n",
    "        elif self.method == \"qr\":\n",
    "            \"\"\" QR approach\"\"\"\n",
    "            b = np.dot(X.T, y)\n",
    "            A = np.dot(X.T, X)\n",
    "            Q, R = np.linalg.qr(A)\n",
    "            Q_inv = Q.T\n",
    "            x1 = np.dot(Q_inv, b)\n",
    "            self.w = scipy.linalg.solve_triangular(R, x1)\n",
    "            \n",
    "        elif self.method == \"svd\":\n",
    "            \"\"\" SVD approach\"\"\"\n",
    "            b = np.dot(X.T, y)\n",
    "            A = np.dot(X.T, X)\n",
    "            U, Sigma_diag, V_t = np.linalg.svd(A, full_matrices=False)\n",
    "            Sigma_diag_inv = 1/Sigma_diag\n",
    "            Sigma_mat_inv = np.diag(Sigma_diag_inv)\n",
    "            #Sigma_mat_inv[:Sigma_diag_inv.shape[0], :Sigma_diag_inv.shape[0]] = np.diag(Sigma_diag_inv)\n",
    "            U_inv = U.T\n",
    "            x1 = np.dot(U_inv, b)\n",
    "            x2 = np.dot(Sigma_mat_inv, x1)\n",
    "            #Inverse de V_t = V vu que V_t est une matrice orthogonale\n",
    "            V = V_t.T\n",
    "            self.w = np.dot(V, x2)\n",
    "            \n",
    "        \n",
    "    def predict(self, X):\n",
    "        if self.fit_intercept == True:\n",
    "            one = np.array([np.ones(X.shape[0])])\n",
    "            X = np.concatenate((X, one.T), axis=1)\n",
    "        y_predict = np.dot(X, self.w)\n",
    "        return y_predict"
   ]
  },
  {
   "cell_type": "markdown",
   "metadata": {},
   "source": [
    "### without the bias term"
   ]
  },
  {
   "cell_type": "code",
   "execution_count": 98,
   "metadata": {
    "deletable": false,
    "editable": false,
    "nbgrader": {
     "cell_type": "code",
     "checksum": "7e2566ac9fab2095026b65f7aaed149b",
     "grade": true,
     "grade_id": "cell-8f754988c3d8f3bd",
     "locked": true,
     "points": 1,
     "schema_version": 3,
     "solution": false,
     "task": false
    }
   },
   "outputs": [
    {
     "name": "stdout",
     "output_type": "stream",
     "text": [
      "prediction error:  1.2016286059583595e-12\n"
     ]
    }
   ],
   "source": [
    "# DIRECT INVERSE APPROACH\n",
    "sk_model = LR(fit_intercept=False)\n",
    "sk_model.fit(X_train, y_train)\n",
    "sk_pred = sk_model.predict(X_train)\n",
    "\n",
    "model = LinearRegression(fit_intercept=False)\n",
    "model.fit(X_train, y_train)\n",
    "pred = model.predict(X_train)\n",
    "\n",
    "error = rel_error(pred, sk_pred)\n",
    "assert error <= 1e-11\n",
    "print(\"prediction error: \", error)"
   ]
  },
  {
   "cell_type": "code",
   "execution_count": 99,
   "metadata": {
    "deletable": false,
    "editable": false,
    "nbgrader": {
     "cell_type": "code",
     "checksum": "cb9da4d324a63d4ac6ffa9b94a9862f6",
     "grade": true,
     "grade_id": "cell-b2f69e29babd5ffa",
     "locked": true,
     "points": 2,
     "schema_version": 3,
     "solution": false,
     "task": false
    }
   },
   "outputs": [
    {
     "name": "stdout",
     "output_type": "stream",
     "text": [
      "prediction error cholesky:  2.5088948915590246e-13\n",
      "prediction error qr:  1.7671826881033755e-13\n",
      "prediction error svd:  2.5088948915590246e-13\n"
     ]
    }
   ],
   "source": [
    "# OTHER APPROACHES\n",
    "sk_model = LR(fit_intercept=False)\n",
    "sk_model.fit(X_train, y_train)\n",
    "sk_pred = sk_model.predict(X_train)\n",
    "\n",
    "model_cholesky = LinearRegression(fit_intercept=False, method=\"cholesky\")\n",
    "model_cholesky.fit(X_train, y_train)\n",
    "pred_cholesky = model_cholesky.predict(X_train)\n",
    "\n",
    "error_cholesky = rel_error(pred_cholesky, sk_pred)\n",
    "assert error_cholesky <= 1e-11\n",
    "print(\"prediction error cholesky: \", error_cholesky)\n",
    "\n",
    "model_qr = LinearRegression(fit_intercept=False, method=\"qr\")\n",
    "model_qr.fit(X_train, y_train)\n",
    "pred_qr = model_qr.predict(X_train)\n",
    "\n",
    "error_qr = rel_error(pred_qr, sk_pred)\n",
    "assert error_qr <= 1e-11\n",
    "print(\"prediction error qr: \", error_qr)\n",
    "\n",
    "model_svd = LinearRegression(fit_intercept=False, method=\"svd\")\n",
    "model_svd.fit(X_train, y_train)\n",
    "pred_svd = model_cholesky.predict(X_train)\n",
    "\n",
    "error_cholesky = rel_error(pred_svd, sk_pred)\n",
    "assert error_cholesky <= 1e-11\n",
    "print(\"prediction error svd: \", error_cholesky)"
   ]
  },
  {
   "cell_type": "markdown",
   "metadata": {},
   "source": [
    "### with the bias term"
   ]
  },
  {
   "cell_type": "code",
   "execution_count": 100,
   "metadata": {
    "deletable": false,
    "editable": false,
    "nbgrader": {
     "cell_type": "code",
     "checksum": "156f79e2fa426ed177d2c33c99ee2277",
     "grade": true,
     "grade_id": "cell-7271d3ca16bb71bf",
     "locked": true,
     "points": 1,
     "schema_version": 3,
     "solution": false,
     "task": false
    }
   },
   "outputs": [
    {
     "name": "stdout",
     "output_type": "stream",
     "text": [
      "[[ 0.03807591  0.05068012  0.06169621 ...  0.01990842 -0.01764613\n",
      "   1.        ]\n",
      " [-0.00188202 -0.04464164 -0.05147406 ... -0.06832974 -0.09220405\n",
      "   1.        ]\n",
      " [ 0.08529891  0.05068012  0.04445121 ...  0.00286377 -0.02593034\n",
      "   1.        ]\n",
      " ...\n",
      " [ 0.04170844  0.05068012 -0.01590626 ... -0.04687948  0.01549073\n",
      "   1.        ]\n",
      " [-0.04547248 -0.04464164  0.03906215 ...  0.04452837 -0.02593034\n",
      "   1.        ]\n",
      " [-0.04547248 -0.04464164 -0.0730303  ... -0.00421986  0.00306441\n",
      "   1.        ]]\n",
      "prediction error:  4.7559927570929116e-15\n"
     ]
    }
   ],
   "source": [
    "# DIRECT INVERSE APPROACH\n",
    "sk_model = LR(fit_intercept=True)\n",
    "sk_model.fit(X_train, y_train)\n",
    "sk_pred = sk_model.predict(X_train)\n",
    "\n",
    "model = LinearRegression(fit_intercept=True)\n",
    "model.fit(X_train, y_train)\n",
    "pred = model.predict(X_train)\n",
    "\n",
    "error = rel_error(pred, sk_pred)\n",
    "assert error <= 1e-14\n",
    "print(\"prediction error: \", error)"
   ]
  },
  {
   "cell_type": "code",
   "execution_count": 84,
   "metadata": {
    "deletable": false,
    "editable": false,
    "nbgrader": {
     "cell_type": "code",
     "checksum": "a745a016521d45e3b82ceb09d2810cce",
     "grade": true,
     "grade_id": "cell-4b23ad5ab726d0e9",
     "locked": true,
     "points": 2,
     "schema_version": 3,
     "solution": false,
     "task": false
    }
   },
   "outputs": [
    {
     "name": "stdout",
     "output_type": "stream",
     "text": [
      "prediction error cholesky:  6.714706654315912e-15\n",
      "prediction error qr:  2.1774424671027846e-15\n",
      "prediction error svd:  6.714706654315912e-15\n"
     ]
    }
   ],
   "source": [
    "# OTHER APPROACHES\n",
    "sk_model = LR(fit_intercept=True)\n",
    "sk_model.fit(X_train, y_train)\n",
    "sk_pred = sk_model.predict(X_train)\n",
    "\n",
    "model_cholesky = LinearRegression(fit_intercept=True, method=\"cholesky\")\n",
    "model_cholesky.fit(X_train, y_train)\n",
    "pred_cholesky = model_cholesky.predict(X_train)\n",
    "\n",
    "error_cholesky = rel_error(pred_cholesky, sk_pred)\n",
    "assert error_cholesky <= 1e-11\n",
    "print(\"prediction error cholesky: \", error_cholesky)\n",
    "\n",
    "model_qr = LinearRegression(fit_intercept=True, method=\"qr\")\n",
    "model_qr.fit(X_train, y_train)\n",
    "pred_qr = model_qr.predict(X_train)\n",
    "\n",
    "error_qr = rel_error(pred_qr, sk_pred)\n",
    "assert error_qr <= 1e-11\n",
    "print(\"prediction error qr: \", error_qr)\n",
    "\n",
    "model_svd = LinearRegression(fit_intercept=True, method=\"svd\")\n",
    "model_svd.fit(X_train, y_train)\n",
    "pred_svd = model_cholesky.predict(X_train)\n",
    "\n",
    "error_cholesky = rel_error(pred_svd, sk_pred)\n",
    "assert error_cholesky <= 1e-11\n",
    "print(\"prediction error svd: \", error_cholesky)"
   ]
  },
  {
   "cell_type": "markdown",
   "metadata": {
    "deletable": false,
    "editable": false,
    "nbgrader": {
     "cell_type": "markdown",
     "checksum": "64b273435217b384d4d560a4f85448f3",
     "grade": false,
     "grade_id": "cell-3b3e6a1f253ca9e9",
     "locked": true,
     "points": 1,
     "schema_version": 3,
     "solution": false,
     "task": true
    }
   },
   "source": [
    "Compare the running time of the different approaches on a large dataset"
   ]
  },
  {
   "cell_type": "code",
   "execution_count": 85,
   "metadata": {},
   "outputs": [
    {
     "data": {
      "text/plain": [
       "(442, 10)"
      ]
     },
     "execution_count": 85,
     "metadata": {},
     "output_type": "execute_result"
    }
   ],
   "source": [
    "X_train.shape"
   ]
  },
  {
   "cell_type": "code",
   "execution_count": 95,
   "metadata": {},
   "outputs": [
    {
     "name": "stdout",
     "output_type": "stream",
     "text": [
      "Running time of approach computing directly inverse of matrice:  0.0019943714141845703\n",
      "Running time of approach using cholesky method:  0.0009970664978027344\n",
      "Running time of approach using QR decomposition:  0.0009984970092773438\n",
      "Running time of approach using SVD:  0.0009968280792236328\n"
     ]
    }
   ],
   "source": [
    "import time\n",
    "start_time = time.time()\n",
    "sk_model.fit(X_train, y_train)\n",
    "print('Running time of approach computing directly inverse of matrice: ', (time.time() - start_time))\n",
    "\n",
    "start_time = time.time()\n",
    "model_cholesky.fit(X_train, y_train)\n",
    "print('Running time of approach using cholesky method: ', (time.time() - start_time))\n",
    "\n",
    "start_time = time.time()\n",
    "model_qr.fit(X_train, y_train)\n",
    "print('Running time of approach using QR decomposition: ', (time.time() - start_time))\n",
    "\n",
    "start_time = time.time()\n",
    "model_svd.fit(X_train, y_train)\n",
    "print('Running time of approach using SVD: ', (time.time() - start_time))"
   ]
  },
  {
   "cell_type": "code",
   "execution_count": null,
   "metadata": {},
   "outputs": [],
   "source": []
  }
 ],
 "metadata": {
  "kernelspec": {
   "display_name": "Python 3",
   "language": "python",
   "name": "python3"
  },
  "language_info": {
   "codemirror_mode": {
    "name": "ipython",
    "version": 3
   },
   "file_extension": ".py",
   "mimetype": "text/x-python",
   "name": "python",
   "nbconvert_exporter": "python",
   "pygments_lexer": "ipython3",
   "version": "3.7.6"
  }
 },
 "nbformat": 4,
 "nbformat_minor": 4
}
