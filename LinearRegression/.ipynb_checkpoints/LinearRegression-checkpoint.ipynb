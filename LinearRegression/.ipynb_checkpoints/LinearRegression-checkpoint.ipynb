{
 "cells": [
  {
   "cell_type": "markdown",
   "metadata": {},
   "source": [
    "### Information:\n",
    "- Created on 21/03/2021\n",
    "- By RASOLOFONDRANOHATRA Joelihanta Parfait\n",
    "- Used to create a class of linear regression"
   ]
  },
  {
   "cell_type": "code",
   "execution_count": 1,
   "metadata": {},
   "outputs": [],
   "source": [
    "import numpy as np\n",
    "import pandas as pd"
   ]
  },
  {
   "cell_type": "code",
   "execution_count": 56,
   "metadata": {},
   "outputs": [],
   "source": [
    "class LinearRegression:\n",
    "    \"\"\"\n",
    "        Linear regression model\n",
    "    \"\"\"\n",
    "    weights=0\n",
    "    \n",
    "    # Function to fit the model\n",
    "    # X is a np array with two dimension N * D with N number of obhservation and D number of features\n",
    "    # y is a np array of one dimension of N rows\n",
    "    def fit(self, X, y):\n",
    "        # Adding \"1\" to the first line of X to multiply with the bias\n",
    "        one = np.array([np.ones(X.shape[0])])\n",
    "        X = np.concatenate((X, one.T), axis=1)\n",
    "        \n",
    "        #Calculate weights\n",
    "        X_transpose = np.transpose(X)\n",
    "        dot = np.dot(X_transpose, X)\n",
    "        inv = np.linalg.inv(dot)\n",
    "        dot_2 = np.dot(inv, X_transpose)\n",
    "        self.weights = np.dot(dot_2, y)\n",
    "    \n",
    "    # Function to predict\n",
    "    # X is a one dimensional array (vector)\n",
    "    # Return a scalar of predicted values\n",
    "    def predict(self, X):\n",
    "        X = np.array([X])\n",
    "        one = np.array([np.ones(X.shape[0])])\n",
    "        X = np.concatenate((X, one.T), axis=1)\n",
    "        y_predict = np.dot(X, self.weights)\n",
    "        return y_predict\n",
    "    \n",
    "    # Function to get weight of the model\n",
    "    def get_weights(self):\n",
    "        return self.weights"
   ]
  },
  {
   "cell_type": "code",
   "execution_count": null,
   "metadata": {},
   "outputs": [],
   "source": []
  }
 ],
 "metadata": {
  "kernelspec": {
   "display_name": "Python 3",
   "language": "python",
   "name": "python3"
  },
  "language_info": {
   "codemirror_mode": {
    "name": "ipython",
    "version": 3
   },
   "file_extension": ".py",
   "mimetype": "text/x-python",
   "name": "python",
   "nbconvert_exporter": "python",
   "pygments_lexer": "ipython3",
   "version": "3.8.5"
  }
 },
 "nbformat": 4,
 "nbformat_minor": 4
}
